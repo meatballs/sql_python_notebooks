{
 "cells": [
  {
   "cell_type": "markdown",
   "metadata": {},
   "source": [
    "# Add Some Data"
   ]
  },
  {
   "cell_type": "markdown",
   "metadata": {},
   "source": [
    "Now that we have a table, it's time to add some data into it.\n",
    "\n",
    "First, let's connect to our database:"
   ]
  },
  {
   "cell_type": "code",
   "execution_count": 4,
   "metadata": {},
   "outputs": [],
   "source": [
    "import sqlalchemy as sa\n",
    "engine = sa.create_engine('sqlite:///flight.db')\n",
    "connection = engine.connect()"
   ]
  },
  {
   "cell_type": "markdown",
   "metadata": {},
   "source": [
    "To add data, we use an 'INSERT' statment.\n",
    "\n",
    "We specify the columns for which we have data and then the values for the record we want to create.\n",
    "\n",
    "In our case, we'll provide values for the flight name, timestamp and the teperature, pressure and humidity readings but we'll leave the accelerometer columns to have the default value of 0:\n",
    "\n",
    "```sql\n",
    "INSERT INTO readings(flight, ts, temp, pressure, humidity)\n",
    "VALUES ('hab1', '2015-01-01 09:00:00', 25.5, 1020, 40)\n",
    "```\n",
    "\n",
    "Let's execute that statement:"
   ]
  },
  {
   "cell_type": "code",
   "execution_count": 5,
   "metadata": {},
   "outputs": [
    {
     "data": {
      "text/plain": [
       "<sqlalchemy.engine.result.ResultProxy at 0x11249e400>"
      ]
     },
     "execution_count": 5,
     "metadata": {},
     "output_type": "execute_result"
    }
   ],
   "source": [
    "sql = \"\"\"\n",
    "    INSERT INTO readings(flight, ts, temp, pressure, humidity)\n",
    "    VALUES ('hab1', '2015-01-01 09:00:00', 25.5, 1020, 40)\n",
    "\"\"\"\n",
    "connection.execute(sql)"
   ]
  },
  {
   "cell_type": "markdown",
   "metadata": {},
   "source": [
    "A single INSERT statement can create multiple records:\n",
    "    \n",
    "```sql\n",
    "INSERT INTO readings(flight, ts, temp, pressure, humidity)\n",
    "VALUES\n",
    "  ('hab1', '2015-01-01 09:01:00', 25.5, 1019, 40),\n",
    "  ('hab1', '2015-01-01 09:02:00', 25.5, 1019, 41)\n",
    "```\n",
    "\n",
    "Let's execute this statment too so that our table has three records in total:"
   ]
  },
  {
   "cell_type": "code",
   "execution_count": 6,
   "metadata": {},
   "outputs": [
    {
     "data": {
      "text/plain": [
       "<sqlalchemy.engine.result.ResultProxy at 0x1124aa320>"
      ]
     },
     "execution_count": 6,
     "metadata": {},
     "output_type": "execute_result"
    }
   ],
   "source": [
    "sql = \"\"\"\n",
    "    INSERT INTO readings(flight, ts, temp, pressure, humidity)\n",
    "    VALUES\n",
    "      ('hab1', '2015-01-01 09:01:00', 25.5, 1019, 40),\n",
    "      ('hab1', '2015-01-01 09:02:00', 25.5, 1019, 41)\n",
    "\"\"\"\n",
    "connection.execute(sql)"
   ]
  },
  {
   "cell_type": "markdown",
   "metadata": {},
   "source": [
    "If you are using DB Browser for SQLite, you can now click the 'Browse Data' button to view the three records you just inserted."
   ]
  }
 ],
 "metadata": {
  "kernelspec": {
   "display_name": "Python [conda env:sql_python_tutorial]",
   "language": "python",
   "name": "conda-env-sql_python_tutorial-py"
  },
  "language_info": {
   "codemirror_mode": {
    "name": "ipython",
    "version": 3
   },
   "file_extension": ".py",
   "mimetype": "text/x-python",
   "name": "python",
   "nbconvert_exporter": "python",
   "pygments_lexer": "ipython3",
   "version": "3.6.5"
  }
 },
 "nbformat": 4,
 "nbformat_minor": 2
}
