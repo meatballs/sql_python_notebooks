{
 "cells": [
  {
   "cell_type": "markdown",
   "metadata": {},
   "source": [
    "# Add Some Data\n",
    "\n",
    "Now that we have a table, it's time to add some data into it.\n",
    "\n",
    "First, let's connect to our database:"
   ]
  },
  {
   "cell_type": "code",
   "execution_count": 7,
   "metadata": {},
   "outputs": [],
   "source": [
    "import sqlalchemy as sa\n",
    "engine = sa.create_engine('sqlite:///flight.db')\n",
    "connection = engine.connect()"
   ]
  },
  {
   "cell_type": "markdown",
   "metadata": {},
   "source": [
    "To add data, we use an 'INSERT' statment.\n",
    "\n",
    "We specify the columns for which we have data and then the values for the record we want to create.\n",
    "\n",
    "In our case, we'll provide values for the flight name, timestamp and the teperature, pressure and humidity readings but we'll leave the accelerometer columns to have the default value of 0:\n",
    "\n",
    "```sql\n",
    "INSERT INTO readings(flight, ts, temp, pressure, humidity)\n",
    "VALUES ('hab1', '2015-01-01 09:00:00', 25.5, 1020, 40)\n",
    "```\n",
    "\n",
    "Let's execute that statement:"
   ]
  },
  {
   "cell_type": "code",
   "execution_count": 8,
   "metadata": {},
   "outputs": [
    {
     "data": {
      "text/plain": [
       "<sqlalchemy.engine.result.ResultProxy at 0x1124aa470>"
      ]
     },
     "execution_count": 8,
     "metadata": {},
     "output_type": "execute_result"
    }
   ],
   "source": [
    "sql = \"\"\"\n",
    "    INSERT INTO readings(flight, ts, temp, pressure, humidity)\n",
    "    VALUES ('hab1', '2015-01-01 09:00:00', 25.5, 1020, 40)\n",
    "\"\"\"\n",
    "connection.execute(sql)"
   ]
  },
  {
   "cell_type": "markdown",
   "metadata": {},
   "source": [
    "A single INSERT statement can create multiple records:\n",
    "    \n",
    "```sql\n",
    "INSERT INTO readings(flight, ts, temp, pressure, humidity)\n",
    "VALUES\n",
    "  ('hab1', '2015-01-01 09:01:00', 25.5, 1019, 40),\n",
    "  ('hab1', '2015-01-01 09:02:00', 25.5, 1019, 41)\n",
    "```\n",
    "\n",
    "Let's execute this statment too so that our table has three records in total:"
   ]
  },
  {
   "cell_type": "code",
   "execution_count": 9,
   "metadata": {},
   "outputs": [
    {
     "data": {
      "text/plain": [
       "<sqlalchemy.engine.result.ResultProxy at 0x1124b7048>"
      ]
     },
     "execution_count": 9,
     "metadata": {},
     "output_type": "execute_result"
    }
   ],
   "source": [
    "sql = \"\"\"\n",
    "    INSERT INTO readings(flight, ts, temp, pressure, humidity)\n",
    "    VALUES\n",
    "      ('hab1', '2015-01-01 09:01:00', 25.5, 1019, 40),\n",
    "      ('hab1', '2015-01-01 09:02:00', 25.5, 1019, 41)\n",
    "\"\"\"\n",
    "connection.execute(sql)"
   ]
  },
  {
   "cell_type": "markdown",
   "metadata": {},
   "source": [
    "If you opted to [run the code on your own computer](http://owencampbell.me.uk/pages/howto#howto-local) and also installed the graphical tool, you can now click the 'Browse Data' button to view the three records you just inserted.\n",
    "\n",
    "Our table has check constraints to validate the records we insert. What happens when we try to insert invalid records?\n",
    "\n",
    "Let's try to create a record with a negative pressure reading:"
   ]
  },
  {
   "cell_type": "code",
   "execution_count": 13,
   "metadata": {},
   "outputs": [
    {
     "name": "stdout",
     "output_type": "stream",
     "text": [
      "(sqlite3.IntegrityError) CHECK constraint failed: pres_ck [SQL: \"\\n    INSERT INTO readings(flight, ts, temp, pressure, humidity)\\n    VALUES ('hab1', '2015-01-01 09:03:00', 25.5, -1000, 40)\\n\"] (Background on this error at: http://sqlalche.me/e/gkpj)\n"
     ]
    }
   ],
   "source": [
    "sql = \"\"\"\n",
    "    INSERT INTO readings(flight, ts, temp, pressure, humidity)\n",
    "    VALUES ('hab1', '2015-01-01 09:03:00', 25.5, -1000, 40)\n",
    "\"\"\"\n",
    "try:\n",
    "    connection.execute(sql)\n",
    "except Exception as e:\n",
    "    print(e)\n",
    "    "
   ]
  },
  {
   "cell_type": "markdown",
   "metadata": {},
   "source": [
    "We see that SQLAlchemy raises an IntegrityError and the insert fails as expected."
   ]
  }
 ],
 "metadata": {
  "kernelspec": {
   "display_name": "Python [conda env:sql_python_tutorial]",
   "language": "python",
   "name": "conda-env-sql_python_tutorial-py"
  },
  "language_info": {
   "codemirror_mode": {
    "name": "ipython",
    "version": 3
   },
   "file_extension": ".py",
   "mimetype": "text/x-python",
   "name": "python",
   "nbconvert_exporter": "python",
   "pygments_lexer": "ipython3",
   "version": "3.6.5"
  }
 },
 "nbformat": 4,
 "nbformat_minor": 2
}
