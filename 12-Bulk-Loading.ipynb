{
 "cells": [
  {
   "cell_type": "markdown",
   "metadata": {},
   "source": [
    "# Bulk Loading"
   ]
  },
  {
   "cell_type": "code",
   "execution_count": null,
   "metadata": {},
   "outputs": [],
   "source": [
    "import sqlalchemy as sa\n",
    "import pandas as pd\n",
    "engine = sa.create_engine('sqlite:///flight.db')\n",
    "connection = engine.connect()"
   ]
  },
  {
   "cell_type": "code",
   "execution_count": null,
   "metadata": {},
   "outputs": [],
   "source": [
    "flight_data = pd.read_csv('flight-data.csv')"
   ]
  },
  {
   "cell_type": "code",
   "execution_count": 8,
   "metadata": {},
   "outputs": [
    {
     "name": "stdout",
     "output_type": "stream",
     "text": [
      "5min 26s ± 0 ns per loop (mean ± std. dev. of 1 run, 1 loop each)\n"
     ]
    }
   ],
   "source": [
    "def load_data(connection, data):\n",
    "    sql = \"\"\"\n",
    "        INSERT INTO readings\n",
    "            (flight, ts, temp, pressure, humidity,\n",
    "            accel_x, accel_y, accel_z)\n",
    "        VALUES\n",
    "            ('hab1', ?, ?, ?, ?, ?, ?, ?)\n",
    "    \"\"\"\n",
    "    for row in data.itertuples():\n",
    "        connection.execute(sql, (\n",
    "            row.timestamp, row.temp_h, row.pressure,\n",
    "            min(100, max(0, row.humidity)),\n",
    "            row.accel_x, row.accel_y, row.accel_z\n",
    "        ))\n",
    "\n",
    "connection.execute(\"DELETE FROM readings\")     \n",
    "%timeit -n1 -r1 load_data(connection, flight_data)"
   ]
  },
  {
   "cell_type": "code",
   "execution_count": 9,
   "metadata": {},
   "outputs": [
    {
     "name": "stdout",
     "output_type": "stream",
     "text": [
      "12 s ± 0 ns per loop (mean ± std. dev. of 1 run, 1 loop each)\n"
     ]
    }
   ],
   "source": [
    "def load_data(connection, data):\n",
    "    insert = \"\"\"\n",
    "        INSERT INTO readings\n",
    "            (flight, ts, temp, pressure, humidity,\n",
    "            accel_x, accel_y, accel_z)\n",
    "        VALUES\n",
    "            ('hab1', ?, ?, ?, ?, ?, ?, ?)\n",
    "    \"\"\"\n",
    "    with connection.begin():\n",
    "        for row in data.itertuples():\n",
    "            connection.execute(insert, (\n",
    "                row.timestamp, row.temp_h, row.pressure,\n",
    "                min(100, max(0, row.humidity)),\n",
    "                row.accel_x, row.accel_y, row.accel_z\n",
    "            ))\n",
    "            \n",
    "connection.execute(\"DELETE FROM readings\")     \n",
    "%timeit -n1 -r1 load_data(connection, flight_data)"
   ]
  },
  {
   "cell_type": "code",
   "execution_count": 15,
   "metadata": {},
   "outputs": [
    {
     "name": "stdout",
     "output_type": "stream",
     "text": [
      "3.2 s ± 0 ns per loop (mean ± std. dev. of 1 run, 1 loop each)\n"
     ]
    }
   ],
   "source": [
    "def load_data(connection, data):\n",
    "    insert = \"\"\"\n",
    "        INSERT INTO readings\n",
    "            (flight, ts, temp, pressure, humidity,\n",
    "            accel_x, accel_y, accel_z)\n",
    "        VALUES\n",
    "            ('hab1', ?, ?, ?, ?, ?, ?, ?)\n",
    "    \"\"\"\n",
    "    data = [\n",
    "        (row.timestamp, row.temp_h, row.pressure,\n",
    "         min(100, max(0, row.humidity)),\n",
    "         row.accel_x, row.accel_y, row.accel_z)\n",
    "        for row in data.itertuples()\n",
    "    ]\n",
    "    with connection.begin():\n",
    "        connection.execute(insert, data)\n",
    "        \n",
    "connection.execute(\"DELETE FROM readings\")     \n",
    "%timeit -n1 -r1 load_data(connection, flight_data)"
   ]
  },
  {
   "cell_type": "code",
   "execution_count": null,
   "metadata": {},
   "outputs": [],
   "source": []
  }
 ],
 "metadata": {
  "kernelspec": {
   "display_name": "Python [conda env:sql_python_tutorial]",
   "language": "python",
   "name": "conda-env-sql_python_tutorial-py"
  },
  "language_info": {
   "codemirror_mode": {
    "name": "ipython",
    "version": 3
   },
   "file_extension": ".py",
   "mimetype": "text/x-python",
   "name": "python",
   "nbconvert_exporter": "python",
   "pygments_lexer": "ipython3",
   "version": "3.6.5"
  }
 },
 "nbformat": 4,
 "nbformat_minor": 2
}
