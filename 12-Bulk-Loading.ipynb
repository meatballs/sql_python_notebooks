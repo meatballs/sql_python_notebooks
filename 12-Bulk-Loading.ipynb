{
 "cells": [
  {
   "cell_type": "markdown",
   "metadata": {},
   "source": [
    "# Bulk Loading\n",
    "\n",
    "Previously, we inserted sixty records into the readings table but often we have much bigger sets of data.\n",
    "\n",
    "The [flight-data.csv](http://www.owencampbell.me.uk/sql_python_tutorial/pages/howto#flight-data-file) file contains data for over 200 000 readings. Let's learn how to load that into our database.\n",
    "\n",
    "First we connect:"
   ]
  },
  {
   "cell_type": "code",
   "execution_count": 2,
   "metadata": {},
   "outputs": [
    {
     "data": {
      "text/plain": [
       "<sqlalchemy.engine.result.ResultProxy at 0x10be48ac8>"
      ]
     },
     "execution_count": 2,
     "metadata": {},
     "output_type": "execute_result"
    }
   ],
   "source": [
    "import sqlalchemy as sa\n",
    "import pandas as pd\n",
    "engine = sa.create_engine('sqlite:///flight.db')\n",
    "connection = engine.connect()\n",
    "connection.execute(\"PRAGMA foreign_keys=on\")"
   ]
  },
  {
   "cell_type": "markdown",
   "metadata": {},
   "source": [
    "And then we load the contents of the file into a pandas dataframe.\n",
    "\n",
    "The file contains more columns than we are using, so we'll specify which ones we want to import:"
   ]
  },
  {
   "cell_type": "code",
   "execution_count": 3,
   "metadata": {},
   "outputs": [
    {
     "data": {
      "text/html": [
       "<div>\n",
       "<style scoped>\n",
       "    .dataframe tbody tr th:only-of-type {\n",
       "        vertical-align: middle;\n",
       "    }\n",
       "\n",
       "    .dataframe tbody tr th {\n",
       "        vertical-align: top;\n",
       "    }\n",
       "\n",
       "    .dataframe thead th {\n",
       "        text-align: right;\n",
       "    }\n",
       "</style>\n",
       "<table border=\"1\" class=\"dataframe\">\n",
       "  <thead>\n",
       "    <tr style=\"text-align: right;\">\n",
       "      <th></th>\n",
       "      <th>temp_h</th>\n",
       "      <th>humidity</th>\n",
       "      <th>pressure</th>\n",
       "      <th>accel_x</th>\n",
       "      <th>accel_y</th>\n",
       "      <th>accel_z</th>\n",
       "      <th>timestamp</th>\n",
       "    </tr>\n",
       "  </thead>\n",
       "  <tbody>\n",
       "    <tr>\n",
       "      <th>0</th>\n",
       "      <td>25.108898</td>\n",
       "      <td>-1.364401</td>\n",
       "      <td>0.000000</td>\n",
       "      <td>-0.031118</td>\n",
       "      <td>0.266690</td>\n",
       "      <td>0.945787</td>\n",
       "      <td>2015-09-17 12:17:32.518121</td>\n",
       "    </tr>\n",
       "    <tr>\n",
       "      <th>1</th>\n",
       "      <td>25.237246</td>\n",
       "      <td>-1.375071</td>\n",
       "      <td>1011.770020</td>\n",
       "      <td>-0.028465</td>\n",
       "      <td>0.265963</td>\n",
       "      <td>0.940182</td>\n",
       "      <td>2015-09-17 12:17:32.601389</td>\n",
       "    </tr>\n",
       "    <tr>\n",
       "      <th>2</th>\n",
       "      <td>25.218910</td>\n",
       "      <td>-2.299459</td>\n",
       "      <td>1011.776123</td>\n",
       "      <td>-0.027982</td>\n",
       "      <td>0.267175</td>\n",
       "      <td>0.941157</td>\n",
       "      <td>2015-09-17 12:17:32.681060</td>\n",
       "    </tr>\n",
       "    <tr>\n",
       "      <th>3</th>\n",
       "      <td>25.072227</td>\n",
       "      <td>-1.684385</td>\n",
       "      <td>1011.782715</td>\n",
       "      <td>-0.027741</td>\n",
       "      <td>0.265721</td>\n",
       "      <td>0.941401</td>\n",
       "      <td>2015-09-17 12:17:32.757071</td>\n",
       "    </tr>\n",
       "    <tr>\n",
       "      <th>4</th>\n",
       "      <td>25.072227</td>\n",
       "      <td>-1.684385</td>\n",
       "      <td>1011.783203</td>\n",
       "      <td>-0.028465</td>\n",
       "      <td>0.266448</td>\n",
       "      <td>0.939939</td>\n",
       "      <td>2015-09-17 12:17:32.833635</td>\n",
       "    </tr>\n",
       "  </tbody>\n",
       "</table>\n",
       "</div>"
      ],
      "text/plain": [
       "      temp_h  humidity     pressure   accel_x   accel_y   accel_z  \\\n",
       "0  25.108898 -1.364401     0.000000 -0.031118  0.266690  0.945787   \n",
       "1  25.237246 -1.375071  1011.770020 -0.028465  0.265963  0.940182   \n",
       "2  25.218910 -2.299459  1011.776123 -0.027982  0.267175  0.941157   \n",
       "3  25.072227 -1.684385  1011.782715 -0.027741  0.265721  0.941401   \n",
       "4  25.072227 -1.684385  1011.783203 -0.028465  0.266448  0.939939   \n",
       "\n",
       "                    timestamp  \n",
       "0  2015-09-17 12:17:32.518121  \n",
       "1  2015-09-17 12:17:32.601389  \n",
       "2  2015-09-17 12:17:32.681060  \n",
       "3  2015-09-17 12:17:32.757071  \n",
       "4  2015-09-17 12:17:32.833635  "
      ]
     },
     "execution_count": 3,
     "metadata": {},
     "output_type": "execute_result"
    }
   ],
   "source": [
    "flight_data = pd.read_csv(\n",
    "    'flight-data.csv',\n",
    "    usecols=['timestamp', 'temp_h', 'pressure', 'humidity', 'accel_x', 'accel_y', 'accel_z'])\n",
    "flight_data.head()"
   ]
  },
  {
   "cell_type": "markdown",
   "metadata": {},
   "source": [
    "Two of the column names don't quite match what we've used in our table.\n",
    "\n",
    "Let's fix that:"
   ]
  },
  {
   "cell_type": "code",
   "execution_count": 4,
   "metadata": {},
   "outputs": [
    {
     "data": {
      "text/html": [
       "<div>\n",
       "<style scoped>\n",
       "    .dataframe tbody tr th:only-of-type {\n",
       "        vertical-align: middle;\n",
       "    }\n",
       "\n",
       "    .dataframe tbody tr th {\n",
       "        vertical-align: top;\n",
       "    }\n",
       "\n",
       "    .dataframe thead th {\n",
       "        text-align: right;\n",
       "    }\n",
       "</style>\n",
       "<table border=\"1\" class=\"dataframe\">\n",
       "  <thead>\n",
       "    <tr style=\"text-align: right;\">\n",
       "      <th></th>\n",
       "      <th>temp</th>\n",
       "      <th>humidity</th>\n",
       "      <th>pressure</th>\n",
       "      <th>accel_x</th>\n",
       "      <th>accel_y</th>\n",
       "      <th>accel_z</th>\n",
       "      <th>ts</th>\n",
       "    </tr>\n",
       "  </thead>\n",
       "  <tbody>\n",
       "    <tr>\n",
       "      <th>0</th>\n",
       "      <td>25.108898</td>\n",
       "      <td>-1.364401</td>\n",
       "      <td>0.000000</td>\n",
       "      <td>-0.031118</td>\n",
       "      <td>0.266690</td>\n",
       "      <td>0.945787</td>\n",
       "      <td>2015-09-17 12:17:32.518121</td>\n",
       "    </tr>\n",
       "    <tr>\n",
       "      <th>1</th>\n",
       "      <td>25.237246</td>\n",
       "      <td>-1.375071</td>\n",
       "      <td>1011.770020</td>\n",
       "      <td>-0.028465</td>\n",
       "      <td>0.265963</td>\n",
       "      <td>0.940182</td>\n",
       "      <td>2015-09-17 12:17:32.601389</td>\n",
       "    </tr>\n",
       "    <tr>\n",
       "      <th>2</th>\n",
       "      <td>25.218910</td>\n",
       "      <td>-2.299459</td>\n",
       "      <td>1011.776123</td>\n",
       "      <td>-0.027982</td>\n",
       "      <td>0.267175</td>\n",
       "      <td>0.941157</td>\n",
       "      <td>2015-09-17 12:17:32.681060</td>\n",
       "    </tr>\n",
       "    <tr>\n",
       "      <th>3</th>\n",
       "      <td>25.072227</td>\n",
       "      <td>-1.684385</td>\n",
       "      <td>1011.782715</td>\n",
       "      <td>-0.027741</td>\n",
       "      <td>0.265721</td>\n",
       "      <td>0.941401</td>\n",
       "      <td>2015-09-17 12:17:32.757071</td>\n",
       "    </tr>\n",
       "    <tr>\n",
       "      <th>4</th>\n",
       "      <td>25.072227</td>\n",
       "      <td>-1.684385</td>\n",
       "      <td>1011.783203</td>\n",
       "      <td>-0.028465</td>\n",
       "      <td>0.266448</td>\n",
       "      <td>0.939939</td>\n",
       "      <td>2015-09-17 12:17:32.833635</td>\n",
       "    </tr>\n",
       "  </tbody>\n",
       "</table>\n",
       "</div>"
      ],
      "text/plain": [
       "        temp  humidity     pressure   accel_x   accel_y   accel_z  \\\n",
       "0  25.108898 -1.364401     0.000000 -0.031118  0.266690  0.945787   \n",
       "1  25.237246 -1.375071  1011.770020 -0.028465  0.265963  0.940182   \n",
       "2  25.218910 -2.299459  1011.776123 -0.027982  0.267175  0.941157   \n",
       "3  25.072227 -1.684385  1011.782715 -0.027741  0.265721  0.941401   \n",
       "4  25.072227 -1.684385  1011.783203 -0.028465  0.266448  0.939939   \n",
       "\n",
       "                           ts  \n",
       "0  2015-09-17 12:17:32.518121  \n",
       "1  2015-09-17 12:17:32.601389  \n",
       "2  2015-09-17 12:17:32.681060  \n",
       "3  2015-09-17 12:17:32.757071  \n",
       "4  2015-09-17 12:17:32.833635  "
      ]
     },
     "execution_count": 4,
     "metadata": {},
     "output_type": "execute_result"
    }
   ],
   "source": [
    "flight_data = flight_data.rename(columns={'temp_h': 'temp', 'timestamp': 'ts'})\n",
    "flight_data.head()"
   ]
  },
  {
   "cell_type": "markdown",
   "metadata": {},
   "source": [
    "There are some errors in the humidity readings due to sensor glitches. (e.g. You can see some negative figures in the first few rows).\n",
    "\n",
    "Let's set those to 0 or 100 if they are out of range:"
   ]
  },
  {
   "cell_type": "code",
   "execution_count": 5,
   "metadata": {},
   "outputs": [
    {
     "data": {
      "text/html": [
       "<div>\n",
       "<style scoped>\n",
       "    .dataframe tbody tr th:only-of-type {\n",
       "        vertical-align: middle;\n",
       "    }\n",
       "\n",
       "    .dataframe tbody tr th {\n",
       "        vertical-align: top;\n",
       "    }\n",
       "\n",
       "    .dataframe thead th {\n",
       "        text-align: right;\n",
       "    }\n",
       "</style>\n",
       "<table border=\"1\" class=\"dataframe\">\n",
       "  <thead>\n",
       "    <tr style=\"text-align: right;\">\n",
       "      <th></th>\n",
       "      <th>temp</th>\n",
       "      <th>humidity</th>\n",
       "      <th>pressure</th>\n",
       "      <th>accel_x</th>\n",
       "      <th>accel_y</th>\n",
       "      <th>accel_z</th>\n",
       "      <th>ts</th>\n",
       "    </tr>\n",
       "  </thead>\n",
       "  <tbody>\n",
       "    <tr>\n",
       "      <th>0</th>\n",
       "      <td>25.108898</td>\n",
       "      <td>0.0</td>\n",
       "      <td>0.000000</td>\n",
       "      <td>-0.031118</td>\n",
       "      <td>0.266690</td>\n",
       "      <td>0.945787</td>\n",
       "      <td>2015-09-17 12:17:32.518121</td>\n",
       "    </tr>\n",
       "    <tr>\n",
       "      <th>1</th>\n",
       "      <td>25.237246</td>\n",
       "      <td>0.0</td>\n",
       "      <td>1011.770020</td>\n",
       "      <td>-0.028465</td>\n",
       "      <td>0.265963</td>\n",
       "      <td>0.940182</td>\n",
       "      <td>2015-09-17 12:17:32.601389</td>\n",
       "    </tr>\n",
       "    <tr>\n",
       "      <th>2</th>\n",
       "      <td>25.218910</td>\n",
       "      <td>0.0</td>\n",
       "      <td>1011.776123</td>\n",
       "      <td>-0.027982</td>\n",
       "      <td>0.267175</td>\n",
       "      <td>0.941157</td>\n",
       "      <td>2015-09-17 12:17:32.681060</td>\n",
       "    </tr>\n",
       "    <tr>\n",
       "      <th>3</th>\n",
       "      <td>25.072227</td>\n",
       "      <td>0.0</td>\n",
       "      <td>1011.782715</td>\n",
       "      <td>-0.027741</td>\n",
       "      <td>0.265721</td>\n",
       "      <td>0.941401</td>\n",
       "      <td>2015-09-17 12:17:32.757071</td>\n",
       "    </tr>\n",
       "    <tr>\n",
       "      <th>4</th>\n",
       "      <td>25.072227</td>\n",
       "      <td>0.0</td>\n",
       "      <td>1011.783203</td>\n",
       "      <td>-0.028465</td>\n",
       "      <td>0.266448</td>\n",
       "      <td>0.939939</td>\n",
       "      <td>2015-09-17 12:17:32.833635</td>\n",
       "    </tr>\n",
       "  </tbody>\n",
       "</table>\n",
       "</div>"
      ],
      "text/plain": [
       "        temp  humidity     pressure   accel_x   accel_y   accel_z  \\\n",
       "0  25.108898       0.0     0.000000 -0.031118  0.266690  0.945787   \n",
       "1  25.237246       0.0  1011.770020 -0.028465  0.265963  0.940182   \n",
       "2  25.218910       0.0  1011.776123 -0.027982  0.267175  0.941157   \n",
       "3  25.072227       0.0  1011.782715 -0.027741  0.265721  0.941401   \n",
       "4  25.072227       0.0  1011.783203 -0.028465  0.266448  0.939939   \n",
       "\n",
       "                           ts  \n",
       "0  2015-09-17 12:17:32.518121  \n",
       "1  2015-09-17 12:17:32.601389  \n",
       "2  2015-09-17 12:17:32.681060  \n",
       "3  2015-09-17 12:17:32.757071  \n",
       "4  2015-09-17 12:17:32.833635  "
      ]
     },
     "execution_count": 5,
     "metadata": {},
     "output_type": "execute_result"
    }
   ],
   "source": [
    "flight_data['humidity'] = flight_data['humidity'].clip(0, 100)\n",
    "flight_data.head()"
   ]
  },
  {
   "cell_type": "markdown",
   "metadata": {},
   "source": [
    "Finally, there is no flight name.\n",
    "\n",
    "Let's make all these for flight hab1:"
   ]
  },
  {
   "cell_type": "code",
   "execution_count": 7,
   "metadata": {},
   "outputs": [
    {
     "data": {
      "text/html": [
       "<div>\n",
       "<style scoped>\n",
       "    .dataframe tbody tr th:only-of-type {\n",
       "        vertical-align: middle;\n",
       "    }\n",
       "\n",
       "    .dataframe tbody tr th {\n",
       "        vertical-align: top;\n",
       "    }\n",
       "\n",
       "    .dataframe thead th {\n",
       "        text-align: right;\n",
       "    }\n",
       "</style>\n",
       "<table border=\"1\" class=\"dataframe\">\n",
       "  <thead>\n",
       "    <tr style=\"text-align: right;\">\n",
       "      <th></th>\n",
       "      <th>temp</th>\n",
       "      <th>humidity</th>\n",
       "      <th>pressure</th>\n",
       "      <th>accel_x</th>\n",
       "      <th>accel_y</th>\n",
       "      <th>accel_z</th>\n",
       "      <th>ts</th>\n",
       "      <th>flight</th>\n",
       "    </tr>\n",
       "  </thead>\n",
       "  <tbody>\n",
       "    <tr>\n",
       "      <th>0</th>\n",
       "      <td>25.108898</td>\n",
       "      <td>0.0</td>\n",
       "      <td>0.000000</td>\n",
       "      <td>-0.031118</td>\n",
       "      <td>0.266690</td>\n",
       "      <td>0.945787</td>\n",
       "      <td>2015-09-17 12:17:32.518121</td>\n",
       "      <td>hab1</td>\n",
       "    </tr>\n",
       "    <tr>\n",
       "      <th>1</th>\n",
       "      <td>25.237246</td>\n",
       "      <td>0.0</td>\n",
       "      <td>1011.770020</td>\n",
       "      <td>-0.028465</td>\n",
       "      <td>0.265963</td>\n",
       "      <td>0.940182</td>\n",
       "      <td>2015-09-17 12:17:32.601389</td>\n",
       "      <td>hab1</td>\n",
       "    </tr>\n",
       "    <tr>\n",
       "      <th>2</th>\n",
       "      <td>25.218910</td>\n",
       "      <td>0.0</td>\n",
       "      <td>1011.776123</td>\n",
       "      <td>-0.027982</td>\n",
       "      <td>0.267175</td>\n",
       "      <td>0.941157</td>\n",
       "      <td>2015-09-17 12:17:32.681060</td>\n",
       "      <td>hab1</td>\n",
       "    </tr>\n",
       "    <tr>\n",
       "      <th>3</th>\n",
       "      <td>25.072227</td>\n",
       "      <td>0.0</td>\n",
       "      <td>1011.782715</td>\n",
       "      <td>-0.027741</td>\n",
       "      <td>0.265721</td>\n",
       "      <td>0.941401</td>\n",
       "      <td>2015-09-17 12:17:32.757071</td>\n",
       "      <td>hab1</td>\n",
       "    </tr>\n",
       "    <tr>\n",
       "      <th>4</th>\n",
       "      <td>25.072227</td>\n",
       "      <td>0.0</td>\n",
       "      <td>1011.783203</td>\n",
       "      <td>-0.028465</td>\n",
       "      <td>0.266448</td>\n",
       "      <td>0.939939</td>\n",
       "      <td>2015-09-17 12:17:32.833635</td>\n",
       "      <td>hab1</td>\n",
       "    </tr>\n",
       "  </tbody>\n",
       "</table>\n",
       "</div>"
      ],
      "text/plain": [
       "        temp  humidity     pressure   accel_x   accel_y   accel_z  \\\n",
       "0  25.108898       0.0     0.000000 -0.031118  0.266690  0.945787   \n",
       "1  25.237246       0.0  1011.770020 -0.028465  0.265963  0.940182   \n",
       "2  25.218910       0.0  1011.776123 -0.027982  0.267175  0.941157   \n",
       "3  25.072227       0.0  1011.782715 -0.027741  0.265721  0.941401   \n",
       "4  25.072227       0.0  1011.783203 -0.028465  0.266448  0.939939   \n",
       "\n",
       "                           ts flight  \n",
       "0  2015-09-17 12:17:32.518121   hab1  \n",
       "1  2015-09-17 12:17:32.601389   hab1  \n",
       "2  2015-09-17 12:17:32.681060   hab1  \n",
       "3  2015-09-17 12:17:32.757071   hab1  \n",
       "4  2015-09-17 12:17:32.833635   hab1  "
      ]
     },
     "execution_count": 7,
     "metadata": {},
     "output_type": "execute_result"
    }
   ],
   "source": [
    "flight_data['flight'] = 'hab1'\n",
    "flight_data.head()"
   ]
  },
  {
   "cell_type": "markdown",
   "metadata": {},
   "source": [
    "Now, we are ready to insert our data into our readings table. Let's try using the same technique as when we loaded the sixty records in Chapter 3.\n",
    "\n",
    "We defined an INSERT statement using bound parameters and then looped over our dataset and executed that statement once for each record.\n",
    "\n",
    "We'll do that again now but with the loop inside a function that we call so that we can time it.\n",
    "\n",
    "**NOTE** If you are using the online service, it is best not to run this example as it will take a significant length of time."
   ]
  },
  {
   "cell_type": "code",
   "execution_count": 9,
   "metadata": {},
   "outputs": [
    {
     "name": "stdout",
     "output_type": "stream",
     "text": [
      "5min 19s ± 0 ns per loop (mean ± std. dev. of 1 run, 1 loop each)\n"
     ]
    }
   ],
   "source": [
    "sql = \"\"\"\n",
    "    INSERT INTO readings\n",
    "        (flight, ts, temp, pressure, humidity,\n",
    "        accel_x, accel_y, accel_z)\n",
    "    VALUES\n",
    "        (?, ?, ?, ?, ?, ?, ?, ?)\n",
    "\"\"\"\n",
    "\n",
    "def load_data(connection, data):\n",
    "\n",
    "    for row in data.itertuples():\n",
    "        connection.execute(sql, (\n",
    "            row.flight, row.ts, row.temp, row.pressure,\n",
    "            row.humidity, row.accel_x, row.accel_y, row.accel_z\n",
    "        ))\n",
    "\n",
    "connection.execute(\"DELETE FROM readings\")     \n",
    "%timeit -n1 -r1 load_data(connection, flight_data)"
   ]
  },
  {
   "cell_type": "markdown",
   "metadata": {},
   "source": [
    "To understand why this technique takes so long to run, we need to understand database transactions.\n",
    "\n",
    "When you ask a DBMS to make a change to a table using an INSERT, UPDATE or DELETE statement, it will guarantee:\n",
    "\n",
    "* Atomicity - The entire change will either succeed or fail. It will never partially complete.\n",
    "* Consistency - Your data will always be consistent. Your table constraints will never be violated.\n",
    "* Isolation - Nobody else will see any of your changes until they have all completed.\n",
    "* Durability - Once your changes are complete, they have been entirely written to the underlying storage.\n",
    "\n",
    "These guarantees are known as ACID transactions.\n",
    "\n",
    "You can make as many changes as you want within a single transaction. If, for example, it is important that records inserted into two tables must either succeed or fail together (e.g. an invoice header and invoice detail table in an accounting system), then it would be sensible to make those inserts within a single transaction.\n",
    "\n",
    "Unless told otherwise, SQLite creates a transaction for each and every INSERT, UPDATE and DELETE statement. Because it has to guarantee the durability, it has to write to the database file each time. This repeated disk writing is the reason our first example is slow.\n",
    "\n",
    "Instead, let's explicitly specify that all our inserts should take place in a single transaction. This will ensure there is only one disk write for the entire task.\n",
    "\n",
    "We specify a transaction using our connection object's `begin` method:"
   ]
  },
  {
   "cell_type": "code",
   "execution_count": 11,
   "metadata": {},
   "outputs": [
    {
     "name": "stdout",
     "output_type": "stream",
     "text": [
      "11.1 s ± 0 ns per loop (mean ± std. dev. of 1 run, 1 loop each)\n"
     ]
    }
   ],
   "source": [
    "def load_data(connection, data):\n",
    "\n",
    "    with connection.begin():\n",
    "        for row in data.itertuples():\n",
    "            connection.execute(sql, (\n",
    "                row.flight, row.ts, row.temp, row.pressure,\n",
    "                row.humidity, row.accel_x, row.accel_y, row.accel_z\n",
    "            ))\n",
    "            \n",
    "connection.execute(\"DELETE FROM readings\")\n",
    "%timeit -n1 -r1 load_data(connection, flight_data)"
   ]
  },
  {
   "cell_type": "markdown",
   "metadata": {},
   "source": [
    "You should see a huge drop in the amount of time it takes to execute this second example.\n",
    "\n",
    "**NOTE** _The DELETE statement in the previous example is outside the transacation so that we have a fair time comparison with the first example. However, this means that, if any problem occurs with the inserts, the table will be left empty because the delete will already have succeeded. In the real world, it's likely that you would want the delete to be included in the same transaction as the inserts._\n",
    "\n",
    "But we can do better. At the moment, we are using a for loop to iterate over the pandas dataframe. Instead, let's use a [list comprehension](https://docs.python.org/3/tutorial/datastructures.html#list-comprehensions):"
   ]
  },
  {
   "cell_type": "code",
   "execution_count": 13,
   "metadata": {},
   "outputs": [
    {
     "name": "stdout",
     "output_type": "stream",
     "text": [
      "2.75 s ± 0 ns per loop (mean ± std. dev. of 1 run, 1 loop each)\n"
     ]
    }
   ],
   "source": [
    "def load_data(connection, data):\n",
    "\n",
    "    data = [\n",
    "        (row.flight, row.ts, row.temp, row.pressure,\n",
    "         row.humidity, row.accel_x, row.accel_y, row.accel_z)\n",
    "        for row in data.itertuples()\n",
    "    ]\n",
    "    with connection.begin():\n",
    "        connection.execute(sql, data)\n",
    "        \n",
    "connection.execute(\"DELETE FROM readings\")     \n",
    "%timeit -n1 -r1 load_data(connection, flight_data)"
   ]
  },
  {
   "cell_type": "markdown",
   "metadata": {},
   "source": [
    "On my laptop, that's now 100x faster than our first example and 4x faster than the second.\n",
    "\n",
    "Finally, although this tutorial focuses on learning SQL, it is worth noting that a pandas dataframe can be loaded directly into a database table using the `to_sql` method.\n",
    "\n",
    "Let's see how that performs:"
   ]
  },
  {
   "cell_type": "code",
   "execution_count": 46,
   "metadata": {},
   "outputs": [
    {
     "name": "stdout",
     "output_type": "stream",
     "text": [
      "5.53 s ± 0 ns per loop (mean ± std. dev. of 1 run, 1 loop each)\n"
     ]
    }
   ],
   "source": [
    "connection.execute(\"DELETE FROM readings\")\n",
    "%timeit -n1 -r1 flight_data.to_sql('readings', connection, if_exists='append', index=False)"
   ]
  },
  {
   "cell_type": "markdown",
   "metadata": {},
   "source": [
    "By default, `to_sql` will place all the insert statements into a single transaction so this is far more efficient than our first example.\n",
    "\n",
    "Pandas will also iterate over our dataframe more efficiently than the for loop in our second example.\n",
    "\n",
    "However, pandas generates an insert statement for each row and passes those to the DBMS for execution. Our third example is faster because we used an SQL statement with bound parameters. We are passing that single SQL statement to the DBMS, along with the relevant data, and asking it handle those as best it can. A DBMS is designed to handle just that sort of task efficiently and so it's faster than pandas generating the insert statements itself."
   ]
  }
 ],
 "metadata": {
  "kernelspec": {
   "display_name": "Python [conda env:sql_python_tutorial]",
   "language": "python",
   "name": "conda-env-sql_python_tutorial-py"
  },
  "language_info": {
   "codemirror_mode": {
    "name": "ipython",
    "version": 3
   },
   "file_extension": ".py",
   "mimetype": "text/x-python",
   "name": "python",
   "nbconvert_exporter": "python",
   "pygments_lexer": "ipython3",
   "version": "3.6.5"
  }
 },
 "nbformat": 4,
 "nbformat_minor": 2
}
