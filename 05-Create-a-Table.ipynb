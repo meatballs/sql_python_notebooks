{
 "cells": [
  {
   "cell_type": "markdown",
   "metadata": {},
   "source": [
    "# Create a Table"
   ]
  },
  {
   "cell_type": "code",
   "execution_count": 9,
   "metadata": {},
   "outputs": [],
   "source": [
    "import sqlalchemy as sa\n",
    "engine = sa.create_engine('sqlite:///flight.db')\n",
    "connection = engine.connect()"
   ]
  },
  {
   "cell_type": "code",
   "execution_count": 10,
   "metadata": {},
   "outputs": [
    {
     "data": {
      "text/plain": [
       "<sqlalchemy.engine.result.ResultProxy at 0x10c0b6518>"
      ]
     },
     "execution_count": 10,
     "metadata": {},
     "output_type": "execute_result"
    }
   ],
   "source": [
    "sql = \"\"\"\n",
    "CREATE TABLE readings (\n",
    "    flight    VARCHAR(10) NOT NULL,\n",
    "    ts        TIMESTAMP NOT NULL,\n",
    "    temp      NUMERIC(3,1) NOT NULL,\n",
    "    pressure  NUMERIC(4,0) NOT NULL,\n",
    "    humidity  NUMERIC(3,0) NOT NULL,\n",
    "    accel_x   REAL DEFAULT 0 NOT NULL,\n",
    "    accel_y   REAL DEFAULT 0 NOT NULL,\n",
    "    accel_z   REAL DEFAULT 0 NOT NULL,\n",
    "\n",
    "    CONSTRAINT readings_pk PRIMARY KEY (flight, ts),\n",
    "    CONSTRAINT temp_ck CHECK (temp BETWEEN -70 AND 70),\n",
    "    CONSTRAINT pres_ck CHECK (pressure BETWEEN 0 AND 2000),\n",
    "    CONSTRAINT hum_ck CHECK (humidity BETWEEN 0 AND 100)\n",
    ")\n",
    "\"\"\"\n",
    "connection.execute(sql)"
   ]
  },
  {
   "cell_type": "code",
   "execution_count": null,
   "metadata": {},
   "outputs": [],
   "source": []
  }
 ],
 "metadata": {
  "kernelspec": {
   "display_name": "Python [conda env:sql_python_tutorial]",
   "language": "python",
   "name": "conda-env-sql_python_tutorial-py"
  },
  "language_info": {
   "codemirror_mode": {
    "name": "ipython",
    "version": 3
   },
   "file_extension": ".py",
   "mimetype": "text/x-python",
   "name": "python",
   "nbconvert_exporter": "python",
   "pygments_lexer": "ipython3",
   "version": "3.6.5"
  }
 },
 "nbformat": 4,
 "nbformat_minor": 2
}
