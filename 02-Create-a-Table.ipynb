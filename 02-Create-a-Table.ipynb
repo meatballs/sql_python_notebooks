{
 "cells": [
  {
   "cell_type": "markdown",
   "metadata": {},
   "source": [
    "# Create a Table"
   ]
  },
  {
   "cell_type": "markdown",
   "metadata": {},
   "source": [
    "In a relational database, data is held in a 2-dimensional structure with rows and columns called a 'table.' If you're familiar with the Pandas library, this is similar to a dataframe (a fact we will put to good use shortly) or, if you've used a spreadsheet program, it's similar to a single sheet.\n",
    "\n",
    "Each row in a table contains a 'record' and the individual columns are often referred to as 'fields.'\n",
    "\n",
    "We'll create a table to hold readings of temperature and pressure taken during balloon flights. First, let's connect to our database:"
   ]
  },
  {
   "cell_type": "code",
   "execution_count": 4,
   "metadata": {},
   "outputs": [],
   "source": [
    "import sqlalchemy as sa\n",
    "engine = sa.create_engine('sqlite:///flight.db')\n",
    "connection = engine.connect()"
   ]
  },
  {
   "cell_type": "markdown",
   "metadata": {},
   "source": [
    "Here is the SQL to create a suitable table with eight columns.\n",
    "\n",
    "For each column, we have to define its data type and here we have to be careful. Data types are not standardised across different DBMSs.\n",
    "\n",
    "**NOTE:** It is a common convention that SQL keywords are capitalised but this isn't strictly necessary in order to be valid SQL. It's largely redundant today since most editors will apply syntax highlighting to SQL but, for this tutorial, the convention is useful as we'll see shortly."
   ]
  },
  {
   "cell_type": "raw",
   "metadata": {},
   "source": [
    "CREATE TABLE readings (\n",
    "    flight    VARCHAR(10),\n",
    "    ts        TIMESTAMP,\n",
    "    temp      NUMERIC(3,1),\n",
    "    pressure  NUMERIC(4,0),\n",
    "    humidity  NUMERIC(3,0),\n",
    "    accel_x   REAL,\n",
    "    accel_y   REAL,\n",
    "    accel_z   REAL,\n",
    ")"
   ]
  },
  {
   "cell_type": "markdown",
   "metadata": {},
   "source": [
    "For each column, we can also define whether a null value is allowed and, if not, what the default value should be:"
   ]
  },
  {
   "cell_type": "raw",
   "metadata": {},
   "source": [
    "CREATE TABLE readings (\n",
    "    flight    VARCHAR(10) NOT NULL,\n",
    "    ts        TIMESTAMP NOT NULL,\n",
    "    temp      NUMERIC(3,1) NOT NULL,\n",
    "    pressure  NUMERIC(4,0) NOT NULL,\n",
    "    humidity  NUMERIC(3,0) NOT NULL,\n",
    "    accel_x   REAL DEFAULT 0 NOT NULL,\n",
    "    accel_y   REAL DEFAULT 0 NOT NULL,\n",
    "    accel_z   REAL DEFAULT 0 NOT NULL,\n",
    ")"
   ]
  },
  {
   "cell_type": "markdown",
   "metadata": {},
   "source": [
    "We can also add constraints to each column so that the database will throw an error if any attempt is made to enter invalid values. These are know as CHECK constraints and each has a name - commonly the field to which the constraint applies followed by _ck:"
   ]
  },
  {
   "cell_type": "raw",
   "metadata": {},
   "source": [
    "CREATE TABLE readings (\n",
    "    flight    VARCHAR(10) NOT NULL,\n",
    "    ts        TIMESTAMP NOT NULL,\n",
    "    temp      NUMERIC(3,1) NOT NULL,\n",
    "    pressure  NUMERIC(4,0) NOT NULL,\n",
    "    humidity  NUMERIC(3,0) NOT NULL,\n",
    "    accel_x   REAL DEFAULT 0 NOT NULL,\n",
    "    accel_y   REAL DEFAULT 0 NOT NULL,\n",
    "    accel_z   REAL DEFAULT 0 NOT NULL,\n",
    "\n",
    "    CONSTRAINT temp_ck CHECK (temp BETWEEN -70 AND 70),\n",
    "    CONSTRAINT pres_ck CHECK (pressure BETWEEN 0 AND 2000),\n",
    "    CONSTRAINT hum_ck CHECK (humidity BETWEEN 0 AND 100)\n",
    ")"
   ]
  },
  {
   "cell_type": "markdown",
   "metadata": {},
   "source": [
    "And we can also define something known as a 'primary key' constraint for the table. This is a similar concept to a pandas index and defines a field, or combination of fields, which must be unique for each record and which can then be used to perform efficient indexed searches of the table contents.\n",
    "\n",
    "Again, the constraint has a name and this is commonly the name of the table followed by _pk:"
   ]
  },
  {
   "cell_type": "raw",
   "metadata": {},
   "source": [
    "CREATE TABLE readings (\n",
    "    flight    VARCHAR(10) NOT NULL,\n",
    "    ts        TIMESTAMP NOT NULL,\n",
    "    temp      NUMERIC(3,1) NOT NULL,\n",
    "    pressure  NUMERIC(4,0) NOT NULL,\n",
    "    humidity  NUMERIC(3,0) NOT NULL,\n",
    "    accel_x   REAL DEFAULT 0 NOT NULL,\n",
    "    accel_y   REAL DEFAULT 0 NOT NULL,\n",
    "    accel_z   REAL DEFAULT 0 NOT NULL,\n",
    "\n",
    "    CONSTRAINT readings_pk PRIMARY KEY (flight, ts),\n",
    "    CONSTRAINT temp_ck CHECK (temp BETWEEN -70 AND 70),\n",
    "    CONSTRAINT pres_ck CHECK (pressure BETWEEN 0 AND 2000),\n",
    "    CONSTRAINT hum_ck CHECK (humidity BETWEEN 0 AND 100)\n",
    ")"
   ]
  },
  {
   "cell_type": "markdown",
   "metadata": {},
   "source": [
    "In order to execute an SQL statement, we can use the 'execute' method of our connection object which takes a string as its argument. Let's hold our table creation SQL in a triple quoted string variable and pass it to the connection method.\n",
    "\n",
    "(This technique is why the capitalisation convention is useful for us since most editors cannot easily syntax highlighting to SQL within string variables):"
   ]
  },
  {
   "cell_type": "code",
   "execution_count": 5,
   "metadata": {},
   "outputs": [
    {
     "data": {
      "text/plain": [
       "<sqlalchemy.engine.result.ResultProxy at 0x10d2ecbe0>"
      ]
     },
     "execution_count": 5,
     "metadata": {},
     "output_type": "execute_result"
    }
   ],
   "source": [
    "sql = \"\"\"\n",
    "CREATE TABLE readings (\n",
    "    flight    VARCHAR(10) NOT NULL,\n",
    "    ts        TIMESTAMP NOT NULL,\n",
    "    temp      NUMERIC(3,1) NOT NULL,\n",
    "    pressure  NUMERIC(4,0) NOT NULL,\n",
    "    humidity  NUMERIC(3,0) NOT NULL,\n",
    "    accel_x   REAL DEFAULT 0 NOT NULL,\n",
    "    accel_y   REAL DEFAULT 0 NOT NULL,\n",
    "    accel_z   REAL DEFAULT 0 NOT NULL,\n",
    "\n",
    "    CONSTRAINT readings_pk PRIMARY KEY (flight, ts),\n",
    "    CONSTRAINT temp_ck CHECK (temp BETWEEN -70 AND 70),\n",
    "    CONSTRAINT pres_ck CHECK (pressure BETWEEN 0 AND 2000),\n",
    "    CONSTRAINT hum_ck CHECK (humidity BETWEEN 0 AND 100)\n",
    ")\n",
    "\"\"\"\n",
    "connection.execute(sql)"
   ]
  },
  {
   "cell_type": "markdown",
   "metadata": {},
   "source": [
    "If you are using DB Browser for SQLite, you can should be able to open 'flights.db' and see the new table within your database."
   ]
  }
 ],
 "metadata": {
  "kernelspec": {
   "display_name": "Python [conda env:sql_python_tutorial]",
   "language": "python",
   "name": "conda-env-sql_python_tutorial-py"
  },
  "language_info": {
   "codemirror_mode": {
    "name": "ipython",
    "version": 3
   },
   "file_extension": ".py",
   "mimetype": "text/x-python",
   "name": "python",
   "nbconvert_exporter": "python",
   "pygments_lexer": "ipython3",
   "version": "3.6.5"
  }
 },
 "nbformat": 4,
 "nbformat_minor": 2
}
