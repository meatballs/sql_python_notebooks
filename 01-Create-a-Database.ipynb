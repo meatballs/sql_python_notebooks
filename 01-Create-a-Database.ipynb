{
 "cells": [
  {
   "cell_type": "markdown",
   "metadata": {},
   "source": [
    "# Let's Create a Database!"
   ]
  },
  {
   "cell_type": "markdown",
   "metadata": {},
   "source": [
    "For this tutorial, we'll be using the [sqlite](https://sqlite.org/index.html) Database Management System (DBMS). Sqlite support is built into the Python standard library and, because there is no server to install and configure, it's eminently suitable for the example code we'll be running.\n",
    "\n",
    "To connect to and communicate with our database, we'll be using the [sqlalchemy](http://www.sqlalchemy.org/) Python library. Sqlalchemy is a comprehensive toolkit for working with databases within Python. It has two main components: its Core and its Object Relational Mapper (ORM). If you've ever written a Flask application, you will be familiar with the sqlalchemy ORM but, for this tutorial, we'll be using the Core component to issue SQL commands directly to t"
   ]
  },
  {
   "cell_type": "code",
   "execution_count": 7,
   "metadata": {},
   "outputs": [],
   "source": [
    "import sqlalchemy as sa\n",
    "engine = sa.create_engine('sqlite:///flight.db')\n",
    "connection = engine.connect()"
   ]
  }
 ],
 "metadata": {
  "kernelspec": {
   "display_name": "Python [conda env:sql_python_tutorial]",
   "language": "python",
   "name": "conda-env-sql_python_tutorial-py"
  },
  "language_info": {
   "codemirror_mode": {
    "name": "ipython",
    "version": 3
   },
   "file_extension": ".py",
   "mimetype": "text/x-python",
   "name": "python",
   "nbconvert_exporter": "python",
   "pygments_lexer": "ipython3",
   "version": "3.6.5"
  }
 },
 "nbformat": 4,
 "nbformat_minor": 2
}
