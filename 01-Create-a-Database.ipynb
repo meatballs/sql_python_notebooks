{
 "cells": [
  {
   "cell_type": "markdown",
   "metadata": {},
   "source": [
    "# Let's Create a Database!"
   ]
  },
  {
   "cell_type": "markdown",
   "metadata": {},
   "source": [
    "For this tutorial, we'll be using the [SQLite](https://sqlite.org/index.html) Database Management System (DBMS). SQLite support is built into the Python standard library and, because there is no server to install and configure, it's eminently suitable for the example code we'll be running.\n",
    "\n",
    "To communicate with our database, we'll be using the [sqlalchemy](http://www.sqlalchemy.org/) Python library. Sqlalchemy is a comprehensive toolkit for working with databases within Python. It has two main components: its Core and its Object Relational Mapper (ORM). If you've ever written a Flask application, you will be familiar with the ORM but, for this tutorial, we'll be using the Core component to issue SQL commands directly to our sqlite database.\n",
    "\n",
    "First, let's import the sqlalchemy libary:"
   ]
  },
  {
   "cell_type": "code",
   "execution_count": 1,
   "metadata": {},
   "outputs": [],
   "source": [
    "import sqlalchemy as sa"
   ]
  },
  {
   "cell_type": "markdown",
   "metadata": {},
   "source": [
    "Sqlalchemy uses an 'engine' object to interact with the database which you can create using a 'database url' string. The [sqlalchemy documentation](http://docs.sqlalchemy.org/en/latest/core/engines.html#database-urls) has details on the different types of url you need to use for various DBMSs.\n",
    "\n",
    "SQLite uses a single file for each database and the url is essentially a path to that file. Our example database will contain data about High Altitude Balloon flights. Let's create an engine and call our database file 'flights.db:'"
   ]
  },
  {
   "cell_type": "code",
   "execution_count": 2,
   "metadata": {},
   "outputs": [],
   "source": [
    "engine = sa.create_engine('sqlite:///flight.db')"
   ]
  },
  {
   "cell_type": "markdown",
   "metadata": {},
   "source": [
    "Now, we'll connect to our database using a 'connection' object. At this point, sqlalchemy will connect to a database if it already exists and, if not, it will create the database file and connect to it."
   ]
  },
  {
   "cell_type": "code",
   "execution_count": 3,
   "metadata": {},
   "outputs": [],
   "source": [
    "connection = engine.connect()"
   ]
  },
  {
   "cell_type": "markdown",
   "metadata": {},
   "source": [
    "You should now be able to see a new 'flights.db' file in the same directory as this notebook.\n",
    "\n",
    "If you are running the code on your own computer and opted to install [DB Browser for SQLite](http://sqlitebrowser.org/), you can also now start that program and open your new 'flight.db' file."
   ]
  }
 ],
 "metadata": {
  "kernelspec": {
   "display_name": "Python [conda env:sql_python_tutorial]",
   "language": "python",
   "name": "conda-env-sql_python_tutorial-py"
  },
  "language_info": {
   "codemirror_mode": {
    "name": "ipython",
    "version": 3
   },
   "file_extension": ".py",
   "mimetype": "text/x-python",
   "name": "python",
   "nbconvert_exporter": "python",
   "pygments_lexer": "ipython3",
   "version": "3.6.5"
  }
 },
 "nbformat": 4,
 "nbformat_minor": 2
}
