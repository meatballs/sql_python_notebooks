{
 "cells": [
  {
   "cell_type": "markdown",
   "metadata": {},
   "source": [
    "# Extract The Data\n",
    "\n",
    "We've learned how to create a database, insert data and then update or delete it.\n",
    "\n",
    "We've also seen how to view the content of a table using pandas.\n",
    "\n",
    "But we've only seen how to display the entire contents of a single table. What if we only want a subset of the records? What if we want to extract a set based on records in more than one table?\n",
    "\n",
    "It's time to learn about the SELECT statement.\n",
    "\n",
    "First, let's connect to our database, empty both tables and create records for three flights.\n",
    "\n",
    "We'll need to enable foreign keys again as this setting applies to the connection:"
   ]
  },
  {
   "cell_type": "code",
   "execution_count": 29,
   "metadata": {},
   "outputs": [
    {
     "data": {
      "text/html": [
       "<div>\n",
       "<style scoped>\n",
       "    .dataframe tbody tr th:only-of-type {\n",
       "        vertical-align: middle;\n",
       "    }\n",
       "\n",
       "    .dataframe tbody tr th {\n",
       "        vertical-align: top;\n",
       "    }\n",
       "\n",
       "    .dataframe thead th {\n",
       "        text-align: right;\n",
       "    }\n",
       "</style>\n",
       "<table border=\"1\" class=\"dataframe\">\n",
       "  <thead>\n",
       "    <tr style=\"text-align: right;\">\n",
       "      <th></th>\n",
       "      <th>name</th>\n",
       "      <th>country_code</th>\n",
       "      <th>latitude</th>\n",
       "      <th>longitude</th>\n",
       "    </tr>\n",
       "  </thead>\n",
       "  <tbody>\n",
       "    <tr>\n",
       "      <th>0</th>\n",
       "      <td>hab1</td>\n",
       "      <td>GB</td>\n",
       "      <td>0.0</td>\n",
       "      <td>0.0</td>\n",
       "    </tr>\n",
       "    <tr>\n",
       "      <th>1</th>\n",
       "      <td>hab2</td>\n",
       "      <td>GB</td>\n",
       "      <td>0.0</td>\n",
       "      <td>0.0</td>\n",
       "    </tr>\n",
       "    <tr>\n",
       "      <th>2</th>\n",
       "      <td>hab3</td>\n",
       "      <td>US</td>\n",
       "      <td>0.0</td>\n",
       "      <td>0.0</td>\n",
       "    </tr>\n",
       "  </tbody>\n",
       "</table>\n",
       "</div>"
      ],
      "text/plain": [
       "   name country_code  latitude  longitude\n",
       "0  hab1           GB       0.0        0.0\n",
       "1  hab2           GB       0.0        0.0\n",
       "2  hab3           US       0.0        0.0"
      ]
     },
     "execution_count": 29,
     "metadata": {},
     "output_type": "execute_result"
    }
   ],
   "source": [
    "import sqlalchemy as sa\n",
    "import pandas as pd\n",
    "from collections import namedtuple\n",
    "engine = sa.create_engine('sqlite:///flight.db')\n",
    "connection = engine.connect()\n",
    "connection.execute(\"PRAGMA foreign_keys=on\")\n",
    "connection.execute(\"DELETE FROM flights\")\n",
    "\n",
    "Flight = namedtuple('Flight', 'name country_code')\n",
    "\n",
    "flights = [\n",
    "    Flight(name='hab1', country_code='GB'),\n",
    "    Flight(name='hab2', country_code='GB'),\n",
    "    Flight(name='hab3', country_code='US'),\n",
    "]\n",
    "\n",
    "sql = \"\"\"\n",
    "    INSERT INTO flights(name, country_code)\n",
    "    VALUES(?, ?)\n",
    "\"\"\"\n",
    "\n",
    "for flight in flights:\n",
    "    connection.execute(sql, (flight.name, flight.country_code))\n",
    "pd.read_sql('flights', connection)"
   ]
  },
  {
   "cell_type": "markdown",
   "metadata": {},
   "source": [
    "And then generate 20 randomised readings for each flight:"
   ]
  },
  {
   "cell_type": "code",
   "execution_count": 30,
   "metadata": {},
   "outputs": [],
   "source": [
    "from random import uniform, randint\n",
    "\n",
    "Reading = namedtuple('Reading', 'flight, ts, temp, pressure, humidity')\n",
    "\n",
    "readings = [\n",
    "    Reading(\n",
    "        flight=flight.name,\n",
    "        ts=f'2015-01-01 09:{str(i+1).zfill(2)}:00',\n",
    "        temp=round(uniform(23, 27), 1),\n",
    "        pressure=randint(1020, 1025),\n",
    "        humidity=randint(30, 50))\n",
    "    for flight in flights\n",
    "    for i in range(20)\n",
    "]\n",
    "\n",
    "sql = \"\"\"\n",
    "INSERT INTO readings\n",
    "    (flight, ts, temp, pressure, humidity)\n",
    "VALUES\n",
    "    (?, ?, ?, ?, ?)\n",
    "\"\"\"\n",
    "\n",
    "for reading in readings:\n",
    "    values = (reading.flight, reading.ts, reading.temp, reading.pressure, reading.humidity)\n",
    "    connection.execute(sql, values)"
   ]
  },
  {
   "cell_type": "markdown",
   "metadata": {},
   "source": []
  }
 ],
 "metadata": {
  "kernelspec": {
   "display_name": "Python [conda env:sql_python_tutorial]",
   "language": "python",
   "name": "conda-env-sql_python_tutorial-py"
  },
  "language_info": {
   "codemirror_mode": {
    "name": "ipython",
    "version": 3
   },
   "file_extension": ".py",
   "mimetype": "text/x-python",
   "name": "python",
   "nbconvert_exporter": "python",
   "pygments_lexer": "ipython3",
   "version": "3.6.5"
  }
 },
 "nbformat": 4,
 "nbformat_minor": 2
}
